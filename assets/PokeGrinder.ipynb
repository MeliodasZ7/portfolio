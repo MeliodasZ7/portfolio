{
  "nbformat": 4,
  "nbformat_minor": 0,
  "metadata": {
    "colab": {
      "provenance": []
    },
    "kernelspec": {
      "name": "python3",
      "display_name": "Python 3"
    },
    "language_info": {
      "name": "python"
    }
  },
  "cells": [
    {
      "cell_type": "markdown",
      "source": [
        "### Clone the GitHub repository"
      ],
      "metadata": {
        "id": "S-bflJZTMmie"
      }
    },
    {
      "cell_type": "code",
      "execution_count": 7,
      "metadata": {
        "colab": {
          "base_uri": "https://localhost:8080/"
        },
        "id": "XpW0TJ34Lm_h",
        "outputId": "c75454bc-0120-4f8c-a312-b24ce46de709"
      },
      "outputs": [
        {
          "output_type": "stream",
          "name": "stdout",
          "text": [
            "Cloning into 'PokeGrinder'...\n",
            "remote: Enumerating objects: 354, done.\u001b[K\n",
            "remote: Counting objects: 100% (140/140), done.\u001b[K\n",
            "remote: Compressing objects: 100% (80/80), done.\u001b[K\n",
            "remote: Total 354 (delta 96), reused 70 (delta 59), pack-reused 214 (from 1)\u001b[K\n",
            "Receiving objects: 100% (354/354), 5.51 MiB | 13.41 MiB/s, done.\n",
            "Resolving deltas: 100% (176/176), done.\n",
            "/content/PokeGrinder/PokeGrinder\n"
          ]
        }
      ],
      "source": [
        "!git clone https://github.com/MehulKhanna/PokeGrinder.git\n",
        "%cd PokeGrinder"
      ]
    },
    {
      "cell_type": "markdown",
      "source": [
        "### Install discord.py-self"
      ],
      "metadata": {
        "id": "eP1cdqmzM6E3"
      }
    },
    {
      "cell_type": "code",
      "source": [
        "%pip install git+https://github.com/dolfies/discord.py-self"
      ],
      "metadata": {
        "colab": {
          "base_uri": "https://localhost:8080/"
        },
        "id": "kwA_J_7NMwI4",
        "outputId": "330555b0-5b87-4dc0-fb3e-aae932e517e0"
      },
      "execution_count": 8,
      "outputs": [
        {
          "output_type": "stream",
          "name": "stdout",
          "text": [
            "Collecting git+https://github.com/dolfies/discord.py-self\n",
            "  Cloning https://github.com/dolfies/discord.py-self to /tmp/pip-req-build-wbmo_tue\n",
            "  Running command git clone --filter=blob:none --quiet https://github.com/dolfies/discord.py-self /tmp/pip-req-build-wbmo_tue\n",
            "  Resolved https://github.com/dolfies/discord.py-self to commit fda06e9c2faa475cbce1f9147e713f644a80d01f\n",
            "  Installing build dependencies ... \u001b[?25l\u001b[?25hdone\n",
            "  Getting requirements to build wheel ... \u001b[?25l\u001b[?25hdone\n",
            "  Preparing metadata (pyproject.toml) ... \u001b[?25l\u001b[?25hdone\n",
            "Requirement already satisfied: aiohttp<4,>=3.7.4 in /usr/local/lib/python3.10/dist-packages (from discord.py-self==2.1.0a4996+gfda06e9c) (3.11.9)\n",
            "Requirement already satisfied: tzlocal<6,>=4.0.0 in /usr/local/lib/python3.10/dist-packages (from discord.py-self==2.1.0a4996+gfda06e9c) (5.2)\n",
            "Requirement already satisfied: discord_protos<1.0.0 in /usr/local/lib/python3.10/dist-packages (from discord.py-self==2.1.0a4996+gfda06e9c) (0.0.2)\n",
            "Requirement already satisfied: aiohappyeyeballs>=2.3.0 in /usr/local/lib/python3.10/dist-packages (from aiohttp<4,>=3.7.4->discord.py-self==2.1.0a4996+gfda06e9c) (2.4.4)\n",
            "Requirement already satisfied: aiosignal>=1.1.2 in /usr/local/lib/python3.10/dist-packages (from aiohttp<4,>=3.7.4->discord.py-self==2.1.0a4996+gfda06e9c) (1.3.1)\n",
            "Requirement already satisfied: async-timeout<6.0,>=4.0 in /usr/local/lib/python3.10/dist-packages (from aiohttp<4,>=3.7.4->discord.py-self==2.1.0a4996+gfda06e9c) (4.0.3)\n",
            "Requirement already satisfied: attrs>=17.3.0 in /usr/local/lib/python3.10/dist-packages (from aiohttp<4,>=3.7.4->discord.py-self==2.1.0a4996+gfda06e9c) (24.2.0)\n",
            "Requirement already satisfied: frozenlist>=1.1.1 in /usr/local/lib/python3.10/dist-packages (from aiohttp<4,>=3.7.4->discord.py-self==2.1.0a4996+gfda06e9c) (1.5.0)\n",
            "Requirement already satisfied: multidict<7.0,>=4.5 in /usr/local/lib/python3.10/dist-packages (from aiohttp<4,>=3.7.4->discord.py-self==2.1.0a4996+gfda06e9c) (6.1.0)\n",
            "Requirement already satisfied: propcache>=0.2.0 in /usr/local/lib/python3.10/dist-packages (from aiohttp<4,>=3.7.4->discord.py-self==2.1.0a4996+gfda06e9c) (0.2.1)\n",
            "Requirement already satisfied: yarl<2.0,>=1.17.0 in /usr/local/lib/python3.10/dist-packages (from aiohttp<4,>=3.7.4->discord.py-self==2.1.0a4996+gfda06e9c) (1.18.3)\n",
            "Requirement already satisfied: protobuf in /usr/local/lib/python3.10/dist-packages (from discord_protos<1.0.0->discord.py-self==2.1.0a4996+gfda06e9c) (4.25.5)\n",
            "Requirement already satisfied: typing-extensions>=4.1.0 in /usr/local/lib/python3.10/dist-packages (from multidict<7.0,>=4.5->aiohttp<4,>=3.7.4->discord.py-self==2.1.0a4996+gfda06e9c) (4.12.2)\n",
            "Requirement already satisfied: idna>=2.0 in /usr/local/lib/python3.10/dist-packages (from yarl<2.0,>=1.17.0->aiohttp<4,>=3.7.4->discord.py-self==2.1.0a4996+gfda06e9c) (3.10)\n"
          ]
        }
      ]
    },
    {
      "cell_type": "markdown",
      "source": [
        "### Install requirements"
      ],
      "metadata": {
        "id": "sLd8UlBRM9iJ"
      }
    },
    {
      "cell_type": "code",
      "source": [
        "!python -m pip install -r requirements.txt"
      ],
      "metadata": {
        "colab": {
          "base_uri": "https://localhost:8080/"
        },
        "id": "vSlUM2O7M1nV",
        "outputId": "3a48dc2b-a11e-4f68-cb08-3ac8e0a48058"
      },
      "execution_count": 9,
      "outputs": [
        {
          "output_type": "stream",
          "name": "stdout",
          "text": [
            "Requirement already satisfied: rich~=13.7.0 in /usr/local/lib/python3.10/dist-packages (from -r requirements.txt (line 1)) (13.7.1)\n",
            "Requirement already satisfied: ultralytics~=8.1.9 in /usr/local/lib/python3.10/dist-packages (from -r requirements.txt (line 2)) (8.1.47)\n",
            "Requirement already satisfied: pillow~=11.0.0 in /usr/local/lib/python3.10/dist-packages (from -r requirements.txt (line 3)) (11.0.0)\n",
            "Requirement already satisfied: markdown-it-py>=2.2.0 in /usr/local/lib/python3.10/dist-packages (from rich~=13.7.0->-r requirements.txt (line 1)) (3.0.0)\n",
            "Requirement already satisfied: pygments<3.0.0,>=2.13.0 in /usr/local/lib/python3.10/dist-packages (from rich~=13.7.0->-r requirements.txt (line 1)) (2.18.0)\n",
            "Requirement already satisfied: matplotlib>=3.3.0 in /usr/local/lib/python3.10/dist-packages (from ultralytics~=8.1.9->-r requirements.txt (line 2)) (3.8.0)\n",
            "Requirement already satisfied: opencv-python>=4.6.0 in /usr/local/lib/python3.10/dist-packages (from ultralytics~=8.1.9->-r requirements.txt (line 2)) (4.10.0.84)\n",
            "Requirement already satisfied: pyyaml>=5.3.1 in /usr/local/lib/python3.10/dist-packages (from ultralytics~=8.1.9->-r requirements.txt (line 2)) (6.0.2)\n",
            "Requirement already satisfied: requests>=2.23.0 in /usr/local/lib/python3.10/dist-packages (from ultralytics~=8.1.9->-r requirements.txt (line 2)) (2.32.3)\n",
            "Requirement already satisfied: scipy>=1.4.1 in /usr/local/lib/python3.10/dist-packages (from ultralytics~=8.1.9->-r requirements.txt (line 2)) (1.13.1)\n",
            "Requirement already satisfied: torch>=1.8.0 in /usr/local/lib/python3.10/dist-packages (from ultralytics~=8.1.9->-r requirements.txt (line 2)) (2.5.1+cu121)\n",
            "Requirement already satisfied: torchvision>=0.9.0 in /usr/local/lib/python3.10/dist-packages (from ultralytics~=8.1.9->-r requirements.txt (line 2)) (0.20.1+cu121)\n",
            "Requirement already satisfied: tqdm>=4.64.0 in /usr/local/lib/python3.10/dist-packages (from ultralytics~=8.1.9->-r requirements.txt (line 2)) (4.66.6)\n",
            "Requirement already satisfied: psutil in /usr/local/lib/python3.10/dist-packages (from ultralytics~=8.1.9->-r requirements.txt (line 2)) (5.9.5)\n",
            "Requirement already satisfied: py-cpuinfo in /usr/local/lib/python3.10/dist-packages (from ultralytics~=8.1.9->-r requirements.txt (line 2)) (9.0.0)\n",
            "Requirement already satisfied: thop>=0.1.1 in /usr/local/lib/python3.10/dist-packages (from ultralytics~=8.1.9->-r requirements.txt (line 2)) (0.1.1.post2209072238)\n",
            "Requirement already satisfied: pandas>=1.1.4 in /usr/local/lib/python3.10/dist-packages (from ultralytics~=8.1.9->-r requirements.txt (line 2)) (2.2.2)\n",
            "Requirement already satisfied: seaborn>=0.11.0 in /usr/local/lib/python3.10/dist-packages (from ultralytics~=8.1.9->-r requirements.txt (line 2)) (0.13.2)\n",
            "Requirement already satisfied: mdurl~=0.1 in /usr/local/lib/python3.10/dist-packages (from markdown-it-py>=2.2.0->rich~=13.7.0->-r requirements.txt (line 1)) (0.1.2)\n",
            "Requirement already satisfied: contourpy>=1.0.1 in /usr/local/lib/python3.10/dist-packages (from matplotlib>=3.3.0->ultralytics~=8.1.9->-r requirements.txt (line 2)) (1.3.1)\n",
            "Requirement already satisfied: cycler>=0.10 in /usr/local/lib/python3.10/dist-packages (from matplotlib>=3.3.0->ultralytics~=8.1.9->-r requirements.txt (line 2)) (0.12.1)\n",
            "Requirement already satisfied: fonttools>=4.22.0 in /usr/local/lib/python3.10/dist-packages (from matplotlib>=3.3.0->ultralytics~=8.1.9->-r requirements.txt (line 2)) (4.55.0)\n",
            "Requirement already satisfied: kiwisolver>=1.0.1 in /usr/local/lib/python3.10/dist-packages (from matplotlib>=3.3.0->ultralytics~=8.1.9->-r requirements.txt (line 2)) (1.4.7)\n",
            "Requirement already satisfied: numpy<2,>=1.21 in /usr/local/lib/python3.10/dist-packages (from matplotlib>=3.3.0->ultralytics~=8.1.9->-r requirements.txt (line 2)) (1.26.4)\n",
            "Requirement already satisfied: packaging>=20.0 in /usr/local/lib/python3.10/dist-packages (from matplotlib>=3.3.0->ultralytics~=8.1.9->-r requirements.txt (line 2)) (24.2)\n",
            "Requirement already satisfied: pyparsing>=2.3.1 in /usr/local/lib/python3.10/dist-packages (from matplotlib>=3.3.0->ultralytics~=8.1.9->-r requirements.txt (line 2)) (3.2.0)\n",
            "Requirement already satisfied: python-dateutil>=2.7 in /usr/local/lib/python3.10/dist-packages (from matplotlib>=3.3.0->ultralytics~=8.1.9->-r requirements.txt (line 2)) (2.8.2)\n",
            "Requirement already satisfied: pytz>=2020.1 in /usr/local/lib/python3.10/dist-packages (from pandas>=1.1.4->ultralytics~=8.1.9->-r requirements.txt (line 2)) (2024.2)\n",
            "Requirement already satisfied: tzdata>=2022.7 in /usr/local/lib/python3.10/dist-packages (from pandas>=1.1.4->ultralytics~=8.1.9->-r requirements.txt (line 2)) (2024.2)\n",
            "Requirement already satisfied: charset-normalizer<4,>=2 in /usr/local/lib/python3.10/dist-packages (from requests>=2.23.0->ultralytics~=8.1.9->-r requirements.txt (line 2)) (3.4.0)\n",
            "Requirement already satisfied: idna<4,>=2.5 in /usr/local/lib/python3.10/dist-packages (from requests>=2.23.0->ultralytics~=8.1.9->-r requirements.txt (line 2)) (3.10)\n",
            "Requirement already satisfied: urllib3<3,>=1.21.1 in /usr/local/lib/python3.10/dist-packages (from requests>=2.23.0->ultralytics~=8.1.9->-r requirements.txt (line 2)) (2.2.3)\n",
            "Requirement already satisfied: certifi>=2017.4.17 in /usr/local/lib/python3.10/dist-packages (from requests>=2.23.0->ultralytics~=8.1.9->-r requirements.txt (line 2)) (2024.8.30)\n",
            "Requirement already satisfied: filelock in /usr/local/lib/python3.10/dist-packages (from torch>=1.8.0->ultralytics~=8.1.9->-r requirements.txt (line 2)) (3.16.1)\n",
            "Requirement already satisfied: typing-extensions>=4.8.0 in /usr/local/lib/python3.10/dist-packages (from torch>=1.8.0->ultralytics~=8.1.9->-r requirements.txt (line 2)) (4.12.2)\n",
            "Requirement already satisfied: networkx in /usr/local/lib/python3.10/dist-packages (from torch>=1.8.0->ultralytics~=8.1.9->-r requirements.txt (line 2)) (3.4.2)\n",
            "Requirement already satisfied: jinja2 in /usr/local/lib/python3.10/dist-packages (from torch>=1.8.0->ultralytics~=8.1.9->-r requirements.txt (line 2)) (3.1.4)\n",
            "Requirement already satisfied: fsspec in /usr/local/lib/python3.10/dist-packages (from torch>=1.8.0->ultralytics~=8.1.9->-r requirements.txt (line 2)) (2024.10.0)\n",
            "Requirement already satisfied: sympy==1.13.1 in /usr/local/lib/python3.10/dist-packages (from torch>=1.8.0->ultralytics~=8.1.9->-r requirements.txt (line 2)) (1.13.1)\n",
            "Requirement already satisfied: mpmath<1.4,>=1.1.0 in /usr/local/lib/python3.10/dist-packages (from sympy==1.13.1->torch>=1.8.0->ultralytics~=8.1.9->-r requirements.txt (line 2)) (1.3.0)\n",
            "Requirement already satisfied: six>=1.5 in /usr/local/lib/python3.10/dist-packages (from python-dateutil>=2.7->matplotlib>=3.3.0->ultralytics~=8.1.9->-r requirements.txt (line 2)) (1.16.0)\n",
            "Requirement already satisfied: MarkupSafe>=2.0 in /usr/local/lib/python3.10/dist-packages (from jinja2->torch>=1.8.0->ultralytics~=8.1.9->-r requirements.txt (line 2)) (3.0.2)\n"
          ]
        }
      ]
    },
    {
      "cell_type": "markdown",
      "source": [
        "# Now edit your config\n",
        "Please increase HuntingCooldown, FishingCooldown and RetryCooldown by a few hundred milliseconds to avoid \"Please wait\" messages.\n",
        "\n",
        "For example,\n",
        "Change \"HuntingCooldown\": 8.4 to \"HuntingCooldown\": 8.9"
      ],
      "metadata": {
        "id": "mAI5SVRPNrNy"
      }
    },
    {
      "cell_type": "markdown",
      "source": [
        "# Run PokeGrinder"
      ],
      "metadata": {
        "collapsed": false,
        "id": "W2FTXDdRrr6D"
      }
    },
    {
      "cell_type": "code",
      "source": [
        "!python main.py"
      ],
      "metadata": {
        "colab": {
          "base_uri": "https://localhost:8080/"
        },
        "id": "IYQ6coDDNo0Z",
        "outputId": "f13bbcaf-430d-48f6-f5cf-29520dd1580a"
      },
      "execution_count": 6,
      "outputs": [
        {
          "output_type": "stream",
          "name": "stdout",
          "text": [
            "/usr/local/lib/python3.10/dist-packages/ultralytics/nn/tasks.py:732: FutureWarning: You are using `torch.load` with `weights_only=False` (the current default value), which uses the default pickle module implicitly. It is possible to construct malicious pickle data which will execute arbitrary code during unpickling (See https://github.com/pytorch/pytorch/blob/main/SECURITY.md#untrusted-models for more details). In a future release, the default value for `weights_only` will be flipped to `True`. This limits the functions that could be executed during unpickling. Arbitrary objects will no longer be allowed to be loaded via this mode unless they are explicitly allowlisted by the user via `torch.serialization.add_safe_globals`. We recommend you start setting `weights_only=True` for any use case where you don't have full control of the loaded file. Please open an issue on GitHub for any issues related to this experimental feature.\n",
            "  ckpt = torch.load(file, map_location=\"cpu\")\n"
          ]
        }
      ]
    }
  ]
}