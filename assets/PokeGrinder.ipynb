{
  "nbformat": 4,
  "nbformat_minor": 0,
  "metadata": {
    "colab": {
      "provenance": []
    },
    "kernelspec": {
      "name": "python3",
      "display_name": "Python 3"
    },
    "language_info": {
      "name": "python"
    }
  },
  "cells": [
    {
      "cell_type": "markdown",
      "source": [
        "### Clone the GitHub repository"
      ],
      "metadata": {
        "id": "S-bflJZTMmie"
      }
    },
    {
      "cell_type": "code",
      "execution_count": null,
      "metadata": {
        "id": "XpW0TJ34Lm_h"
      },
      "outputs": [],
      "source": [
        "!git clone https://github.com/MehulKhanna/PokeGrinder.git\n",
        "%cd PokeGrinder"
      ]
    },
    {
      "cell_type": "markdown",
      "source": [
        "### Install discord.py-self"
      ],
      "metadata": {
        "id": "eP1cdqmzM6E3"
      }
    },
    {
      "cell_type": "code",
      "source": [
        "%pip install git+https://github.com/dolfies/discord.py-self"
      ],
      "metadata": {
        "id": "kwA_J_7NMwI4"
      },
      "execution_count": null,
      "outputs": []
    },
    {
      "cell_type": "markdown",
      "source": [
        "### Install requirements"
      ],
      "metadata": {
        "id": "sLd8UlBRM9iJ"
      }
    },
    {
      "cell_type": "code",
      "source": [
        "!python -m pip install -r requirements.txt"
      ],
      "metadata": {
        "id": "vSlUM2O7M1nV"
      },
      "execution_count": null,
      "outputs": []
    },
    {
      "cell_type": "markdown",
      "source": [
        "# Now edit your config\n",
        "Please increase HuntingCooldown, FishingCooldown and RetryCooldown by a few hundred milliseconds to avoid \"Please wait\" messages.\n",
        "\n",
        "For example,\n",
        "Change \"HuntingCooldown\": 8.4 to \"HuntingCooldown\": 8.9"
      ],
      "metadata": {
        "id": "mAI5SVRPNrNy"
      }
    },
    {
      "cell_type": "markdown",
      "source": [
        "# Run PokeGrinder"
      ],
      "metadata": {
        "collapsed": false,
        "id": "O0f4rdzuvUt_"
      }
    },
    {
      "cell_type": "code",
      "source": [
        "!python main.py"
      ],
      "metadata": {
        "colab": {
          "base_uri": "https://localhost:8080/"
        },
        "id": "IYQ6coDDNo0Z",
        "outputId": "2f9aa4db-e4b2-4813-988b-a05f8819c6bf"
      },
      "execution_count": 14,
      "outputs": [
        {
          "output_type": "stream",
          "name": "stdout",
          "text": [
            "/usr/local/lib/python3.10/dist-packages/ultralytics/nn/tasks.py:732: FutureWarning: You are using `torch.load` with `weights_only=False` (the current default value), which uses the default pickle module implicitly. It is possible to construct malicious pickle data which will execute arbitrary code during unpickling (See https://github.com/pytorch/pytorch/blob/main/SECURITY.md#untrusted-models for more details). In a future release, the default value for `weights_only` will be flipped to `True`. This limits the functions that could be executed during unpickling. Arbitrary objects will no longer be allowed to be loaded via this mode unless they are explicitly allowlisted by the user via `torch.serialization.add_safe_globals`. We recommend you start setting `weights_only=True` for any use case where you don't have full control of the loaded file. Please open an issue on GitHub for any issues related to this experimental feature.\n",
            "  ckpt = torch.load(file, map_location=\"cpu\")\n"
          ]
        }
      ]
    }
  ]
}